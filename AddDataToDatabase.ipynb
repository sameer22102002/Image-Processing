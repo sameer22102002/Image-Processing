{
 "cells": [
  {
   "cell_type": "code",
   "execution_count": 1,
   "metadata": {},
   "outputs": [],
   "source": [
    "import firebase_admin\n",
    "from firebase_admin import credentials\n",
    "from firebase_admin import db\n",
    "\n",
    "cred = credentials.Certificate(\"serviceAccountKey.json\")\n",
    "firebase_admin.initialize_app(cred, {\n",
    "    'databaseURL': \"https://faceattendacerealtime-305a5-default-rtdb.firebaseio.com/\"\n",
    "})\n",
    "\n",
    "ref = db.reference('Students')\n",
    "\n",
    "data = {\n",
    "    \"321654\":\n",
    "        {\n",
    "            \"name\": \"Murtaza Hassan\",\n",
    "            \"major\": \"Robotics\",\n",
    "            \"starting_year\": 2017,\n",
    "            \"total_attendance\": 7,\n",
    "            \"standing\": \"G\",\n",
    "            \"year\": 4,\n",
    "            \"last_attendance_time\": \"2022-12-11 00:54:34\"\n",
    "        },\n",
    "    \"852741\":\n",
    "        {\n",
    "            \"name\": \"Emly Blunt\",\n",
    "            \"major\": \"Economics\",\n",
    "            \"starting_year\": 2021,\n",
    "            \"total_attendance\": 12,\n",
    "            \"standing\": \"B\",\n",
    "            \"year\": 1,\n",
    "            \"last_attendance_time\": \"2022-12-11 00:54:34\"\n",
    "        },\n",
    "    \"963852\":\n",
    "        {\n",
    "            \"name\": \"Elon Musk\",\n",
    "            \"major\": \"Physics\",\n",
    "            \"starting_year\": 2020,\n",
    "            \"total_attendance\": 7,\n",
    "            \"standing\": \"G\",\n",
    "            \"year\": 2,\n",
    "            \"last_attendance_time\": \"2022-12-11 00:54:34\"\n",
    "        }\n",
    "}\n",
    "\n",
    "for key, value in data.items():\n",
    "    ref.child(key).set(value)"
   ]
  }
 ],
 "metadata": {
  "kernelspec": {
   "display_name": "Python 3",
   "language": "python",
   "name": "python3"
  },
  "language_info": {
   "codemirror_mode": {
    "name": "ipython",
    "version": 3
   },
   "file_extension": ".py",
   "mimetype": "text/x-python",
   "name": "python",
   "nbconvert_exporter": "python",
   "pygments_lexer": "ipython3",
   "version": "3.10.5"
  }
 },
 "nbformat": 4,
 "nbformat_minor": 2
}
