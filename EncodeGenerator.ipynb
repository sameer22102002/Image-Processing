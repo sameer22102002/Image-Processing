{
 "cells": [
  {
   "cell_type": "code",
   "execution_count": 1,
   "metadata": {},
   "outputs": [
    {
     "name": "stdout",
     "output_type": "stream",
     "text": [
      "['321654.png', '852741.png', '963852.png']\n",
      "Encoding Started ...\n",
      "Encoding Complete\n",
      "File Saved\n"
     ]
    }
   ],
   "source": [
    "import os\n",
    "import cv2\n",
    "import face_recognition\n",
    "import pickle\n",
    "import firebase_admin\n",
    "from firebase_admin import credentials\n",
    "from firebase_admin import db\n",
    "from firebase_admin import  storage\n",
    "\n",
    "\n",
    "cred = credentials.Certificate(\"serviceAccountKey.json\")\n",
    "firebase_admin.initialize_app(cred, {\n",
    "    'databaseURL': \"https://faceattendacerealtime-305a5-default-rtdb.firebaseio.com/\",\n",
    "    'storageBucket': \"faceattendacerealtime-305a5.appspot.com\"\n",
    "})\n",
    "\n",
    "\n",
    "# Importing student images\n",
    "folderPath = 'Images'\n",
    "pathList = os.listdir(folderPath)\n",
    "print(pathList)\n",
    "imgList = []\n",
    "studentIds = []\n",
    "\n",
    "for path in pathList:\n",
    "    imgList.append(cv2.imread(os.path.join(folderPath, path)))\n",
    "    studentIds.append(os.path.splitext(path)[0])\n",
    "\n",
    "    fileName = f'{folderPath}/{path}'\n",
    "    bucket = storage.bucket()\n",
    "    blob = bucket.blob(fileName)\n",
    "    blob.upload_from_filename(fileName)\n",
    "\n",
    "    \n",
    "\n",
    "def findEncodings(imagesList):\n",
    "    encodeList = []\n",
    "    for img in imagesList:\n",
    "        img = cv2.cvtColor(img, cv2.COLOR_BGR2RGB)\n",
    "        encode = face_recognition.face_encodings(img)[0]\n",
    "        encodeList.append(encode)\n",
    "    return encodeList\n",
    "\n",
    "\n",
    "\n",
    "print(\"Encoding Started ...\")\n",
    "encodeListKnown = findEncodings(imgList)\n",
    "encodeListKnownWithIds = [encodeListKnown, studentIds]\n",
    "print(\"Encoding Complete\")\n",
    "\n",
    "file = open(\"EncodeFile.p\", 'wb')\n",
    "pickle.dump(encodeListKnownWithIds, file)\n",
    "file.close()\n",
    "print(\"File Saved\")\n"
   ]
  }
 ],
 "metadata": {
  "kernelspec": {
   "display_name": "Python 3",
   "language": "python",
   "name": "python3"
  },
  "language_info": {
   "codemirror_mode": {
    "name": "ipython",
    "version": 3
   },
   "file_extension": ".py",
   "mimetype": "text/x-python",
   "name": "python",
   "nbconvert_exporter": "python",
   "pygments_lexer": "ipython3",
   "version": "3.10.5"
  }
 },
 "nbformat": 4,
 "nbformat_minor": 2
}
